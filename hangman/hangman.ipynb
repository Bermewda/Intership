{
 "cells": [
  {
   "cell_type": "code",
   "execution_count": null,
   "metadata": {},
   "outputs": [
    {
     "name": "stdout",
     "output_type": "stream",
     "text": [
      "Select Category:\n",
      "kpop brands (1)\n",
      "hit songs (2)\n",
      "\n",
      "2\n",
      "\n",
      "\n",
      "hint : d\n",
      "['_'] remaining wrong guess 10\n",
      "d\n",
      "['d'] remaining wrong guess 10\n",
      "Answer : D\n",
      "\n",
      "\n",
      "hint : The song that Durian masked song in The Mask Singer Thailand.\n",
      "['_', '_', '_', ' ', '_', '_', ' ', '_', '_', '_', '_'] remaining wrong guess 10\n"
     ]
    }
   ],
   "source": [
    "import csv\n",
    "import numpy as np \n",
    "import random\n",
    "\n",
    "def game(fname):\n",
    "    r = []\n",
    "    score=0\n",
    "    with open(fname,'r') as csvfile:\n",
    "        reader = csv.reader(csvfile)\n",
    "        header = next(reader)   \n",
    "        r = [row for row in reader]\n",
    "    csvfile.close()\n",
    "#     print(np.array(r))\n",
    "    random.shuffle(r)\n",
    "#     print(np.array(r))\n",
    "\n",
    "    for i in r:\n",
    "        guess=10\n",
    "        print(\"\\n\")\n",
    "        print(\"hint : \"+i[1])\n",
    "        \n",
    "        word=[]\n",
    "        for j in i[0]:\n",
    "            if j in \"1234567890-+!@#$%^&*()~ \":\n",
    "                word.append(j.lower())\n",
    "            else:\n",
    "                word.append(\"_\")\n",
    "            \n",
    "            \n",
    "        while guess > 0 and '_' in word:\n",
    "            print(str(word) + \" remaining wrong guess \"+str(guess))  \n",
    "            \n",
    "            ans = input()\n",
    "            start=0\n",
    "            if ans.lower() in word :\n",
    "                guess-=1;\n",
    "                print(\"you used to guess it : \"+ans.lower())                \n",
    "            elif ans.lower() in i[0].lower() :    \n",
    "                for k in i[0].lower():\n",
    "                    if ans.lower() in k: \n",
    "                        word[i[0].lower().find(ans.lower(),start)]=ans.lower()\n",
    "                        start=i[0].lower().find(ans.lower(),start)+1\n",
    "#                         print(start)\n",
    "               \n",
    "            else : \n",
    "                guess-=1;\n",
    "                print(\"wrong guessed : \"+ans.lower())\n",
    "                \n",
    "        print(str(word) + \" remaining wrong guess \"+str(guess)) \n",
    "        print(\"Answer : \"+i[0].lower())\n",
    "        if guess != 0:\n",
    "            score+=1\n",
    "\n",
    "    print(\"\\n\")\n",
    "    print(\"You score : \"+str(score))\n",
    "    \n",
    "    \n",
    "\n",
    "print(\"Select Category:\")\n",
    "print(\"kpop brands (1)\")\n",
    "print(\"hit songs (2)\\n\")\n",
    "category = input() \n",
    "\n",
    "if category == '1' :\n",
    "    game('kpop.csv')\n",
    "    \n",
    "elif category == '2' :\n",
    "    game('song.csv')\n",
    "else:\n",
    "    print(\"error!! don't have category\")\n",
    "                  \n"
   ]
  },
  {
   "cell_type": "code",
   "execution_count": null,
   "metadata": {
    "collapsed": true
   },
   "outputs": [],
   "source": []
  }
 ],
 "metadata": {
  "kernelspec": {
   "display_name": "Python 3",
   "language": "python",
   "name": "python3"
  },
  "language_info": {
   "codemirror_mode": {
    "name": "ipython",
    "version": 3
   },
   "file_extension": ".py",
   "mimetype": "text/x-python",
   "name": "python",
   "nbconvert_exporter": "python",
   "pygments_lexer": "ipython3",
   "version": "3.6.5"
  }
 },
 "nbformat": 4,
 "nbformat_minor": 2
}
